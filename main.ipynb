{
 "cells": [
  {
   "cell_type": "markdown",
   "id": "4cd4e0ca",
   "metadata": {},
   "source": [
    "# 1. Selesaikanlah tabel data di bawah ini dengan metode klasifikasi menggunakan Algoritma Pohon Keputusan (Decision Tree) / Algoritma C4.5. Tentukan Root Nodenya, Child Nodenya, dst, dengan menggunakan rumus Information Gain, Gain dan Entropy.\n"
   ]
  },
  {
   "cell_type": "markdown",
   "id": "21fadbc7",
   "metadata": {},
   "source": [
    "## Import Library"
   ]
  },
  {
   "cell_type": "code",
   "execution_count": 5,
   "id": "647305f0",
   "metadata": {},
   "outputs": [],
   "source": [
    "import pandas as pd\n",
    "import numpy as np\n",
    "from sklearn.tree import DecisionTreeClassifier, export_text, plot_tree\n",
    "from sklearn.preprocessing import LabelEncoder\n",
    "from sklearn.metrics import classification_report, confusion_matrix\n",
    "import matplotlib.pyplot as plt\n",
    "import seaborn as sns"
   ]
  },
  {
   "cell_type": "markdown",
   "id": "a8e0eccc",
   "metadata": {},
   "source": [
    "## LANGKAH 1: BACA DATA"
   ]
  },
  {
   "cell_type": "code",
   "execution_count": 15,
   "id": "dad9ba0d",
   "metadata": {},
   "outputs": [
    {
     "name": "stdout",
     "output_type": "stream",
     "text": [
      "LANGKAH 1: MEMBACA DATA\n",
      "----------------------------------------\n",
      " Data berhasil dibaca dari CSV\n",
      " Jumlah data: 14 baris, 6 kolom\n",
      "\n",
      "Preview data:\n",
      "   NO         AGE  INCOME STUDENT CREDIT_RATING CLASS\n",
      "0   1       youth    high      no          fair    no\n",
      "1   2       youth    high      no     excellent    no\n",
      "2   3  middle age    high      no          fair   yes\n",
      "3   4      senior  medium      no          fair   yes\n",
      "4   5      senior     low     yes          fair   yes\n",
      "\n",
      "Info dataset:\n",
      "<class 'pandas.core.frame.DataFrame'>\n",
      "RangeIndex: 14 entries, 0 to 13\n",
      "Data columns (total 6 columns):\n",
      " #   Column         Non-Null Count  Dtype \n",
      "---  ------         --------------  ----- \n",
      " 0   NO             14 non-null     int64 \n",
      " 1   AGE            14 non-null     object\n",
      " 2   INCOME         14 non-null     object\n",
      " 3   STUDENT        14 non-null     object\n",
      " 4   CREDIT_RATING  14 non-null     object\n",
      " 5   CLASS          14 non-null     object\n",
      "dtypes: int64(1), object(5)\n",
      "memory usage: 804.0+ bytes\n",
      "None\n"
     ]
    }
   ],
   "source": [
    "print(\"LANGKAH 1: MEMBACA DATA\")\n",
    "print(\"-\" * 40)\n",
    "df = pd.read_csv('dataset/credit_data.csv')\n",
    "print(\" Data berhasil dibaca dari CSV\")\n",
    "print(f\" Jumlah data: {len(df)} baris, {len(df.columns)} kolom\")\n",
    "print(\"\\nPreview data:\")\n",
    "print(df.head())\n",
    "print(\"\\nInfo dataset:\")\n",
    "print(df.info())"
   ]
  },
  {
   "cell_type": "markdown",
   "id": "70a29386",
   "metadata": {},
   "source": [
    "## LANGKAH 2: EKSPLORASI DATA"
   ]
  },
  {
   "cell_type": "code",
   "execution_count": 16,
   "id": "2d6cdaa3",
   "metadata": {},
   "outputs": [
    {
     "name": "stdout",
     "output_type": "stream",
     "text": [
      "\n",
      "\n",
      "LANGKAH 2: EKSPLORASI DATA\n",
      "----------------------------------------\n",
      "\n",
      "Distribusi Class:\n",
      "\n",
      "Distribusi Class:\n",
      "- Ya: 9 (64.3%)\n",
      "- Tidak: 5 (35.7%)\n"
     ]
    }
   ],
   "source": [
    "print(\"\\n\\nLANGKAH 2: EKSPLORASI DATA\")\n",
    "print(\"-\" * 40)\n",
    "print(f\"\\nDistribusi Class:\")\n",
    "class_dist = df['CLASS'].value_counts()\n",
    "print(f\"\\nDistribusi Class:\")\n",
    "print(f\"- Ya: {class_dist['yes']} ({class_dist['yes']/len(df)*100:.1f}%)\")\n",
    "print(f\"- Tidak: {class_dist['no']} ({class_dist['no']/len(df)*100:.1f}%)\")\n"
   ]
  },
  {
   "cell_type": "markdown",
   "id": "86b3ac5b",
   "metadata": {},
   "source": [
    "## LANGKAH 3: PREPROCESSING"
   ]
  },
  {
   "cell_type": "code",
   "execution_count": 17,
   "id": "56ace206",
   "metadata": {},
   "outputs": [
    {
     "name": "stdout",
     "output_type": "stream",
     "text": [
      "\n",
      "\n",
      "LANGKAH 3: PREPROCESSING DATA\n",
      "----------------------------------------\n",
      "Mapping encoding untuk setiap fitur:\n",
      "AGE: {'middle age': np.int64(0), 'senior': np.int64(1), 'youth': np.int64(2)}\n",
      "INCOME: {'high': np.int64(0), 'low': np.int64(1), 'medium': np.int64(2)}\n",
      "STUDENT: {'no': np.int64(0), 'yes': np.int64(1)}\n",
      "CREDIT_RATING: {'excellent': np.int64(0), 'fair': np.int64(1)}\n",
      "CLASS: {'no': np.int64(0), 'yes': np.int64(1)}\n"
     ]
    }
   ],
   "source": [
    "print(\"\\n\\nLANGKAH 3: PREPROCESSING DATA\")\n",
    "print(\"-\" * 40)\n",
    "\n",
    "# Label Encoding untuk mengubah data kategorikal menjadi numerik\n",
    "encoders = {}\n",
    "encoded_df = df.copy()\n",
    "\n",
    "\n",
    "feature_cols = ['AGE', 'INCOME', 'STUDENT', 'CREDIT_RATING']\n",
    "target_col = 'CLASS'\n",
    "\n",
    "print(\"Mapping encoding untuk setiap fitur:\")\n",
    "for col in feature_cols + [target_col]:\n",
    "    le = LabelEncoder()\n",
    "    encoded_df[col + '_encoded'] = le.fit_transform(df[col])\n",
    "    encoders[col] = le\n",
    "    mapping = dict(zip(le.classes_, le.transform(le.classes_)))\n",
    "    print(f\"{col}: {mapping}\")"
   ]
  },
  {
   "cell_type": "code",
   "execution_count": 18,
   "id": "1e9273d9",
   "metadata": {},
   "outputs": [
    {
     "data": {
      "text/html": [
       "<div>\n",
       "<style scoped>\n",
       "    .dataframe tbody tr th:only-of-type {\n",
       "        vertical-align: middle;\n",
       "    }\n",
       "\n",
       "    .dataframe tbody tr th {\n",
       "        vertical-align: top;\n",
       "    }\n",
       "\n",
       "    .dataframe thead th {\n",
       "        text-align: right;\n",
       "    }\n",
       "</style>\n",
       "<table border=\"1\" class=\"dataframe\">\n",
       "  <thead>\n",
       "    <tr style=\"text-align: right;\">\n",
       "      <th></th>\n",
       "      <th>NO</th>\n",
       "      <th>AGE</th>\n",
       "      <th>INCOME</th>\n",
       "      <th>STUDENT</th>\n",
       "      <th>CREDIT_RATING</th>\n",
       "      <th>CLASS</th>\n",
       "      <th>AGE_encoded</th>\n",
       "      <th>INCOME_encoded</th>\n",
       "      <th>STUDENT_encoded</th>\n",
       "      <th>CREDIT_RATING_encoded</th>\n",
       "      <th>CLASS_encoded</th>\n",
       "    </tr>\n",
       "  </thead>\n",
       "  <tbody>\n",
       "    <tr>\n",
       "      <th>0</th>\n",
       "      <td>1</td>\n",
       "      <td>youth</td>\n",
       "      <td>high</td>\n",
       "      <td>no</td>\n",
       "      <td>fair</td>\n",
       "      <td>no</td>\n",
       "      <td>2</td>\n",
       "      <td>0</td>\n",
       "      <td>0</td>\n",
       "      <td>1</td>\n",
       "      <td>0</td>\n",
       "    </tr>\n",
       "    <tr>\n",
       "      <th>1</th>\n",
       "      <td>2</td>\n",
       "      <td>youth</td>\n",
       "      <td>high</td>\n",
       "      <td>no</td>\n",
       "      <td>excellent</td>\n",
       "      <td>no</td>\n",
       "      <td>2</td>\n",
       "      <td>0</td>\n",
       "      <td>0</td>\n",
       "      <td>0</td>\n",
       "      <td>0</td>\n",
       "    </tr>\n",
       "    <tr>\n",
       "      <th>2</th>\n",
       "      <td>3</td>\n",
       "      <td>middle age</td>\n",
       "      <td>high</td>\n",
       "      <td>no</td>\n",
       "      <td>fair</td>\n",
       "      <td>yes</td>\n",
       "      <td>0</td>\n",
       "      <td>0</td>\n",
       "      <td>0</td>\n",
       "      <td>1</td>\n",
       "      <td>1</td>\n",
       "    </tr>\n",
       "    <tr>\n",
       "      <th>3</th>\n",
       "      <td>4</td>\n",
       "      <td>senior</td>\n",
       "      <td>medium</td>\n",
       "      <td>no</td>\n",
       "      <td>fair</td>\n",
       "      <td>yes</td>\n",
       "      <td>1</td>\n",
       "      <td>2</td>\n",
       "      <td>0</td>\n",
       "      <td>1</td>\n",
       "      <td>1</td>\n",
       "    </tr>\n",
       "    <tr>\n",
       "      <th>4</th>\n",
       "      <td>5</td>\n",
       "      <td>senior</td>\n",
       "      <td>low</td>\n",
       "      <td>yes</td>\n",
       "      <td>fair</td>\n",
       "      <td>yes</td>\n",
       "      <td>1</td>\n",
       "      <td>1</td>\n",
       "      <td>1</td>\n",
       "      <td>1</td>\n",
       "      <td>1</td>\n",
       "    </tr>\n",
       "    <tr>\n",
       "      <th>5</th>\n",
       "      <td>6</td>\n",
       "      <td>senior</td>\n",
       "      <td>low</td>\n",
       "      <td>yes</td>\n",
       "      <td>excellent</td>\n",
       "      <td>no</td>\n",
       "      <td>1</td>\n",
       "      <td>1</td>\n",
       "      <td>1</td>\n",
       "      <td>0</td>\n",
       "      <td>0</td>\n",
       "    </tr>\n",
       "    <tr>\n",
       "      <th>6</th>\n",
       "      <td>7</td>\n",
       "      <td>middle age</td>\n",
       "      <td>low</td>\n",
       "      <td>yes</td>\n",
       "      <td>excellent</td>\n",
       "      <td>yes</td>\n",
       "      <td>0</td>\n",
       "      <td>1</td>\n",
       "      <td>1</td>\n",
       "      <td>0</td>\n",
       "      <td>1</td>\n",
       "    </tr>\n",
       "    <tr>\n",
       "      <th>7</th>\n",
       "      <td>8</td>\n",
       "      <td>youth</td>\n",
       "      <td>medium</td>\n",
       "      <td>no</td>\n",
       "      <td>fair</td>\n",
       "      <td>no</td>\n",
       "      <td>2</td>\n",
       "      <td>2</td>\n",
       "      <td>0</td>\n",
       "      <td>1</td>\n",
       "      <td>0</td>\n",
       "    </tr>\n",
       "    <tr>\n",
       "      <th>8</th>\n",
       "      <td>9</td>\n",
       "      <td>youth</td>\n",
       "      <td>low</td>\n",
       "      <td>yes</td>\n",
       "      <td>fair</td>\n",
       "      <td>yes</td>\n",
       "      <td>2</td>\n",
       "      <td>1</td>\n",
       "      <td>1</td>\n",
       "      <td>1</td>\n",
       "      <td>1</td>\n",
       "    </tr>\n",
       "    <tr>\n",
       "      <th>9</th>\n",
       "      <td>10</td>\n",
       "      <td>senior</td>\n",
       "      <td>medium</td>\n",
       "      <td>yes</td>\n",
       "      <td>fair</td>\n",
       "      <td>yes</td>\n",
       "      <td>1</td>\n",
       "      <td>2</td>\n",
       "      <td>1</td>\n",
       "      <td>1</td>\n",
       "      <td>1</td>\n",
       "    </tr>\n",
       "    <tr>\n",
       "      <th>10</th>\n",
       "      <td>11</td>\n",
       "      <td>youth</td>\n",
       "      <td>medium</td>\n",
       "      <td>yes</td>\n",
       "      <td>excellent</td>\n",
       "      <td>yes</td>\n",
       "      <td>2</td>\n",
       "      <td>2</td>\n",
       "      <td>1</td>\n",
       "      <td>0</td>\n",
       "      <td>1</td>\n",
       "    </tr>\n",
       "    <tr>\n",
       "      <th>11</th>\n",
       "      <td>12</td>\n",
       "      <td>middle age</td>\n",
       "      <td>medium</td>\n",
       "      <td>no</td>\n",
       "      <td>excellent</td>\n",
       "      <td>yes</td>\n",
       "      <td>0</td>\n",
       "      <td>2</td>\n",
       "      <td>0</td>\n",
       "      <td>0</td>\n",
       "      <td>1</td>\n",
       "    </tr>\n",
       "    <tr>\n",
       "      <th>12</th>\n",
       "      <td>13</td>\n",
       "      <td>middle age</td>\n",
       "      <td>high</td>\n",
       "      <td>yes</td>\n",
       "      <td>fair</td>\n",
       "      <td>yes</td>\n",
       "      <td>0</td>\n",
       "      <td>0</td>\n",
       "      <td>1</td>\n",
       "      <td>1</td>\n",
       "      <td>1</td>\n",
       "    </tr>\n",
       "    <tr>\n",
       "      <th>13</th>\n",
       "      <td>14</td>\n",
       "      <td>senior</td>\n",
       "      <td>medium</td>\n",
       "      <td>no</td>\n",
       "      <td>excellent</td>\n",
       "      <td>no</td>\n",
       "      <td>1</td>\n",
       "      <td>2</td>\n",
       "      <td>0</td>\n",
       "      <td>0</td>\n",
       "      <td>0</td>\n",
       "    </tr>\n",
       "  </tbody>\n",
       "</table>\n",
       "</div>"
      ],
      "text/plain": [
       "    NO         AGE  INCOME STUDENT CREDIT_RATING CLASS  AGE_encoded  \\\n",
       "0    1       youth    high      no          fair    no            2   \n",
       "1    2       youth    high      no     excellent    no            2   \n",
       "2    3  middle age    high      no          fair   yes            0   \n",
       "3    4      senior  medium      no          fair   yes            1   \n",
       "4    5      senior     low     yes          fair   yes            1   \n",
       "5    6      senior     low     yes     excellent    no            1   \n",
       "6    7  middle age     low     yes     excellent   yes            0   \n",
       "7    8       youth  medium      no          fair    no            2   \n",
       "8    9       youth     low     yes          fair   yes            2   \n",
       "9   10      senior  medium     yes          fair   yes            1   \n",
       "10  11       youth  medium     yes     excellent   yes            2   \n",
       "11  12  middle age  medium      no     excellent   yes            0   \n",
       "12  13  middle age    high     yes          fair   yes            0   \n",
       "13  14      senior  medium      no     excellent    no            1   \n",
       "\n",
       "    INCOME_encoded  STUDENT_encoded  CREDIT_RATING_encoded  CLASS_encoded  \n",
       "0                0                0                      1              0  \n",
       "1                0                0                      0              0  \n",
       "2                0                0                      1              1  \n",
       "3                2                0                      1              1  \n",
       "4                1                1                      1              1  \n",
       "5                1                1                      0              0  \n",
       "6                1                1                      0              1  \n",
       "7                2                0                      1              0  \n",
       "8                1                1                      1              1  \n",
       "9                2                1                      1              1  \n",
       "10               2                1                      0              1  \n",
       "11               2                0                      0              1  \n",
       "12               0                1                      1              1  \n",
       "13               2                0                      0              0  "
      ]
     },
     "execution_count": 18,
     "metadata": {},
     "output_type": "execute_result"
    }
   ],
   "source": [
    "encoded_df"
   ]
  },
  {
   "cell_type": "markdown",
   "id": "de65a21d",
   "metadata": {},
   "source": [
    "##  LANGKAH 4: PERSIAPAN FEATURES DAN TARGET"
   ]
  },
  {
   "cell_type": "code",
   "execution_count": 24,
   "id": "96908971",
   "metadata": {},
   "outputs": [
    {
     "name": "stdout",
     "output_type": "stream",
     "text": [
      "\n",
      "\n",
      "LANGKAH 4: PERSIAPAN FEATURES DAN TARGET\n",
      "----------------------------------------\n",
      "Features (X):\n",
      "    AGE_encoded  INCOME_encoded  STUDENT_encoded  CREDIT_RATING_encoded\n",
      "0             2               0                0                      1\n",
      "1             2               0                0                      0\n",
      "2             0               0                0                      1\n",
      "3             1               2                0                      1\n",
      "4             1               1                1                      1\n",
      "5             1               1                1                      0\n",
      "6             0               1                1                      0\n",
      "7             2               2                0                      1\n",
      "8             2               1                1                      1\n",
      "9             1               2                1                      1\n",
      "10            2               2                1                      0\n",
      "11            0               2                0                      0\n",
      "12            0               0                1                      1\n",
      "13            1               2                0                      0\n",
      "\n",
      "Target (y): [0 0 1 1 1 0 1 0 1 1 1 1 1 0]\n"
     ]
    }
   ],
   "source": [
    "print(\"\\n\\nLANGKAH 4: PERSIAPAN FEATURES DAN TARGET\")\n",
    "print(\"-\" * 40)\n",
    "\n",
    "X = encoded_df[['AGE_encoded', 'INCOME_encoded','STUDENT_encoded', 'CREDIT_RATING_encoded']]\n",
    "y = encoded_df['CLASS_encoded']\n",
    "\n",
    "print(\"Features (X):\")\n",
    "print(X)\n",
    "print(f\"\\nTarget (y): {y.values}\")"
   ]
  },
  {
   "cell_type": "markdown",
   "id": "370e863b",
   "metadata": {},
   "source": [
    "## LANGKAH 5: MEMBUAT DECISION TREE"
   ]
  },
  {
   "cell_type": "code",
   "execution_count": 25,
   "id": "1e2aba66",
   "metadata": {},
   "outputs": [
    {
     "name": "stdout",
     "output_type": "stream",
     "text": [
      "\n",
      "\n",
      "LANGKAH 5: MEMBUAT DECISION TREE (C4.5)\n",
      "----------------------------------------\n",
      "Parameter Decision Tree:\n",
      "- Criterion: entropy (Information Gain)\n",
      "- Max Depth: None\n",
      "- Min Samples Split: 2\n",
      "- Min Samples Leaf: 1\n",
      " Model Decision Tree berhasil dilatih!\n"
     ]
    }
   ],
   "source": [
    "print(\"\\n\\nLANGKAH 5: MEMBUAT DECISION TREE (C4.5)\")\n",
    "print(\"-\" * 40)\n",
    "\n",
    "# Inisialisasi Decision Tree Classifier\n",
    "dt_classifier = DecisionTreeClassifier(criterion='entropy', max_depth=None, random_state=42)\n",
    "\n",
    "\n",
    "print(\"Parameter Decision Tree:\")\n",
    "print(f\"- Criterion: {dt_classifier.criterion} (Information Gain)\")\n",
    "print(f\"- Max Depth: {dt_classifier.max_depth}\")\n",
    "print(f\"- Min Samples Split: {dt_classifier.min_samples_split}\")\n",
    "print(f\"- Min Samples Leaf: {dt_classifier.min_samples_leaf}\")\n",
    "\n",
    "# Training model\n",
    "dt_classifier.fit(X, y)\n",
    "print(\" Model Decision Tree berhasil dilatih!\")"
   ]
  },
  {
   "cell_type": "markdown",
   "id": "f1412680",
   "metadata": {},
   "source": [
    "## LANGKAH 6: EVALUASI MODEL"
   ]
  },
  {
   "cell_type": "code",
   "execution_count": 26,
   "id": "b28fc459",
   "metadata": {},
   "outputs": [
    {
     "name": "stdout",
     "output_type": "stream",
     "text": [
      "\n",
      "\n",
      "LANGKAH 6: EVALUASI MODEL\n",
      "----------------------------------------\n",
      "Akurasi: 1.0000 (100.00%)\n",
      "\n",
      "Classification Report:\n",
      "              precision    recall  f1-score   support\n",
      "\n",
      "          no       1.00      1.00      1.00         5\n",
      "         yes       1.00      1.00      1.00         9\n",
      "\n",
      "    accuracy                           1.00        14\n",
      "   macro avg       1.00      1.00      1.00        14\n",
      "weighted avg       1.00      1.00      1.00        14\n",
      "\n",
      "\n",
      "Confusion Matrix:\n",
      "[[5 0]\n",
      " [0 9]]\n"
     ]
    }
   ],
   "source": [
    "print(\"\\n\\nLANGKAH 6: EVALUASI MODEL\")\n",
    "print(\"-\" * 40)\n",
    "\n",
    "# Prediksi\n",
    "y_pred = dt_classifier.predict(X)\n",
    "accuracy = dt_classifier.score(X, y)\n",
    "\n",
    "print(f\"Akurasi: {accuracy:.4f} ({accuracy*100:.2f}%)\")\n",
    "\n",
    "# Classification Report\n",
    "print(\"\\nClassification Report:\")\n",
    "target_names = encoders['CLASS'].classes_\n",
    "print(classification_report(y, y_pred, target_names=target_names, zero_division=0))\n",
    "\n",
    "# Confusion Matrix\n",
    "print(\"\\nConfusion Matrix:\")\n",
    "cm = confusion_matrix(y, y_pred)\n",
    "print(cm)"
   ]
  },
  {
   "cell_type": "markdown",
   "id": "7fb7a386",
   "metadata": {},
   "source": [
    "## LANGKAH 7: ATURAN DECISION TREE"
   ]
  },
  {
   "cell_type": "code",
   "execution_count": 28,
   "id": "a2988808",
   "metadata": {},
   "outputs": [
    {
     "name": "stdout",
     "output_type": "stream",
     "text": [
      "\n",
      "\n",
      "LANGKAH 7: ATURAN DECISION TREE\n",
      "----------------------------------------\n",
      "|--- AGE_encoded <= 0.50\n",
      "|   |--- class: 1\n",
      "|--- AGE_encoded >  0.50\n",
      "|   |--- STUDENT_encoded <= 0.50\n",
      "|   |   |--- AGE_encoded <= 1.50\n",
      "|   |   |   |--- CREDIT_RATING_encoded <= 0.50\n",
      "|   |   |   |   |--- class: 0\n",
      "|   |   |   |--- CREDIT_RATING_encoded >  0.50\n",
      "|   |   |   |   |--- class: 1\n",
      "|   |   |--- AGE_encoded >  1.50\n",
      "|   |   |   |--- class: 0\n",
      "|   |--- STUDENT_encoded >  0.50\n",
      "|   |   |--- CREDIT_RATING_encoded <= 0.50\n",
      "|   |   |   |--- INCOME_encoded <= 1.50\n",
      "|   |   |   |   |--- class: 0\n",
      "|   |   |   |--- INCOME_encoded >  1.50\n",
      "|   |   |   |   |--- class: 1\n",
      "|   |   |--- CREDIT_RATING_encoded >  0.50\n",
      "|   |   |   |--- class: 1\n",
      "\n"
     ]
    }
   ],
   "source": [
    "print(\"\\n\\nLANGKAH 7: ATURAN DECISION TREE\")\n",
    "print(\"-\" * 40)\n",
    "\n",
    "class_names = encoders['CLASS'].classes_\n",
    "tree_rules = export_text(dt_classifier, feature_names=list(X.columns))\n",
    "print(tree_rules)\n"
   ]
  },
  {
   "cell_type": "markdown",
   "id": "05fb2b01",
   "metadata": {},
   "source": [
    "## LANGKAH 8: FEATURE IMPORTANCE"
   ]
  },
  {
   "cell_type": "code",
   "execution_count": 29,
   "id": "03bc2475",
   "metadata": {},
   "outputs": [
    {
     "name": "stdout",
     "output_type": "stream",
     "text": [
      "\n",
      "\n",
      "LANGKAH 8: FEATURE IMPORTANCE\n",
      "----------------------------------------\n",
      "Feature Importance:\n",
      "AGE_encoded    : 0.3626\n",
      "CREDIT_RATING_encoded: 0.2742\n",
      "STUDENT_encoded: 0.2112\n",
      "INCOME_encoded : 0.1519\n"
     ]
    }
   ],
   "source": [
    "print(\"\\n\\nLANGKAH 8: FEATURE IMPORTANCE\")\n",
    "print(\"-\" * 40)\n",
    "\n",
    "importances = dt_classifier.feature_importances_\n",
    "feature_importance_df = pd.DataFrame({\n",
    "    'Feature': X.columns,\n",
    "    'Importance': importances\n",
    "}).sort_values('Importance', ascending=False)\n",
    "\n",
    "print(\"Feature Importance:\")\n",
    "for idx, row in feature_importance_df.iterrows():\n",
    "    print(f\"{row['Feature']:15}: {row['Importance']:.4f}\")\n"
   ]
  },
  {
   "cell_type": "markdown",
   "id": "1b48ba94",
   "metadata": {},
   "source": [
    "## LANGKAH 9: CONTOH PREDIKSI BARU"
   ]
  },
  {
   "cell_type": "code",
   "execution_count": 39,
   "id": "5dd57d64",
   "metadata": {},
   "outputs": [
    {
     "name": "stdout",
     "output_type": "stream",
     "text": [
      "\n",
      "\n",
      "LANGKAH 9: CONTOH PREDIKSI DATA BARU\n",
      "----------------------------------------\n",
      "Contoh prediksi:\n",
      "Input: Age=youth, Income=high, Student=yes, Credit=excellent\n",
      "Prediksi: no\n",
      "Probabilitas [Tidak, Ya]: [1.000, 0.000]\n",
      "\n",
      "Input: Age=senior, Income=medium, Student=yes, Credit=fair\n",
      "Prediksi: yes\n",
      "Probabilitas [Tidak, Ya]: [0.000, 1.000]\n"
     ]
    },
    {
     "data": {
      "text/plain": [
       "'yes'"
      ]
     },
     "execution_count": 39,
     "metadata": {},
     "output_type": "execute_result"
    }
   ],
   "source": [
    "print(\"\\n\\nLANGKAH 9: CONTOH PREDIKSI DATA BARU\")\n",
    "print(\"-\" * 40)\n",
    "\n",
    "def predict_credit(age, income, student, credit_rating):\n",
    "    \"\"\"Fungsi untuk prediksi kredit dengan input kategorikal\"\"\"\n",
    "    \n",
    "    # Encode input\n",
    "    age_encoded = encoders['AGE'].transform([age])[0]\n",
    "    income_encoded = encoders['INCOME'].transform([income])[0]\n",
    "    student_encoded = encoders['STUDENT'].transform([student])[0]\n",
    "    credit_encoded = encoders['CREDIT_RATING'].transform([credit_rating])[0]\n",
    "    \n",
    "    \n",
    "    input_df = pd.DataFrame([[age_encoded, income_encoded, student_encoded, credit_encoded]], columns=X.columns)\n",
    "\n",
    "    # Prediksi\n",
    "    prediction = dt_classifier.predict(input_df)[0]\n",
    "    probability = dt_classifier.predict_proba(input_df)[0]\n",
    "    \n",
    "    result = encoders['CLASS'].inverse_transform([prediction])[0]\n",
    "    \n",
    "    print(f\"Input: Age={age}, Income={income}, Student={student}, Credit={credit_rating}\")\n",
    "    print(f\"Prediksi: {result}\")\n",
    "    print(f\"Probabilitas [Tidak, Ya]: [{probability[0]:.3f}, {probability[1]:.3f}]\")\n",
    "    return result\n",
    "\n",
    "\n",
    "# Test Data kasus\n",
    "print(\"Contoh prediksi:\")\n",
    "predict_credit('youth', 'high', 'yes', 'excellent')\n",
    "print()\n",
    "predict_credit('senior', 'medium', 'yes', 'fair')"
   ]
  },
  {
   "cell_type": "markdown",
   "id": "224d723d",
   "metadata": {},
   "source": [
    "## LANGKAH 10: VISUALISASI"
   ]
  },
  {
   "cell_type": "code",
   "execution_count": 40,
   "id": "721f0fac",
   "metadata": {},
   "outputs": [
    {
     "name": "stdout",
     "output_type": "stream",
     "text": [
      "\n",
      "\n",
      "LANGKAH 10: VISUALISASI\n",
      "----------------------------------------\n"
     ]
    },
    {
     "data": {
      "image/png": "[encoded data removed]",
      "text/plain": [
       "<Figure size 2000x1200 with 1 Axes>"
      ]
     },
     "metadata": {},
     "output_type": "display_data"
    }
   ],
   "source": [
    "print(\"\\n\\nLANGKAH 10: VISUALISASI\")\n",
    "print(\"-\" * 40)\n",
    "\n",
    "# Plot 1: Decision Tree\n",
    "plt.figure(figsize=(20, 12))\n",
    "plot_tree(dt_classifier, \n",
    "          feature_names=X.columns,\n",
    "          class_names=class_names,\n",
    "          filled=True, \n",
    "          rounded=True, \n",
    "          fontsize=10)\n",
    "plt.title(\"Decision Tree - Klasifikasi Kelayakan Kredit\", fontsize=16, fontweight='bold')\n",
    "plt.tight_layout()\n",
    "plt.show()"
   ]
  },
  {
   "cell_type": "code",
   "execution_count": 41,
   "id": "02b0242f",
   "metadata": {},
   "outputs": [
    {
     "data": {
      "image/png": "[encoded data removed]",
      "text/plain": [
       "<Figure size 1000x600 with 1 Axes>"
      ]
     },
     "metadata": {},
     "output_type": "display_data"
    }
   ],
   "source": [
    "# Plot 2: Feature Importance\n",
    "plt.figure(figsize=(10, 6))\n",
    "\n",
    "\n",
    "sns.barplot(\n",
    "    data=feature_importance_df,\n",
    "    x='Importance',\n",
    "    y='Feature',\n",
    "    hue='Feature',             \n",
    "    palette='viridis',\n",
    "    dodge=False,             \n",
    "    legend=False              \n",
    ")\n",
    "\n",
    "plt.title('Feature Importance dalam Decision Tree', fontsize=14, fontweight='bold')\n",
    "plt.xlabel('Importance Score')\n",
    "plt.tight_layout()\n",
    "plt.show()\n"
   ]
  },
  {
   "cell_type": "code",
   "execution_count": 42,
   "id": "fa9774ec",
   "metadata": {},
   "outputs": [
    {
     "data": {
      "image/png": "[encoded data removed]",
      "text/plain": [
       "<Figure size 800x600 with 2 Axes>"
      ]
     },
     "metadata": {},
     "output_type": "display_data"
    }
   ],
   "source": [
    "# Plot 3: Confusion Matrix Heatmap\n",
    "plt.figure(figsize=(8, 6))\n",
    "sns.heatmap(cm, annot=True, fmt='d', cmap='Blues', \n",
    "            xticklabels=class_names, yticklabels=class_names)\n",
    "plt.title('Confusion Matrix', fontsize=14, fontweight='bold')\n",
    "plt.xlabel('Predicted')\n",
    "plt.ylabel('Actual')\n",
    "plt.tight_layout()\n",
    "plt.show()\n"
   ]
  },
  {
   "cell_type": "markdown",
   "id": "368b51f1",
   "metadata": {},
   "source": [
    "## KESIMPULAN"
   ]
  },
  {
   "cell_type": "code",
   "execution_count": 43,
   "id": "bc97a69a",
   "metadata": {},
   "outputs": [
    {
     "name": "stdout",
     "output_type": "stream",
     "text": [
      "\n",
      "======================================================================\n",
      " KESIMPULAN:\n",
      "======================================================================\n",
      "1. Decision Tree berhasil dibuat dengan akurasi 100.00%\n",
      "2. Feature paling penting: AGE_encoded (0.3626)\n",
      "3. Model menggunakan criterion 'entropy' (Information Gain)\n",
      "4. Total 14 data berhasil diklasifikasi\n",
      "5. Distribusi prediksi: {'Ya': np.int64(9), 'Tidak': np.int64(5)}\n",
      "======================================================================\n"
     ]
    }
   ],
   "source": [
    "print(\"\\n\" + \"=\"*70)\n",
    "print(\" KESIMPULAN:\")\n",
    "print(\"=\"*70)\n",
    "print(f\"1. Decision Tree berhasil dibuat dengan akurasi {accuracy*100:.2f}%\")\n",
    "print(f\"2. Feature paling penting: {feature_importance_df.iloc[0]['Feature']} ({feature_importance_df.iloc[0]['Importance']:.4f})\")\n",
    "print(f\"3. Model menggunakan criterion 'entropy' (Information Gain)\")\n",
    "print(f\"4. Total {len(df)} data berhasil diklasifikasi\")\n",
    "print(f\"5. Distribusi prediksi: {dict(pd.Series(y_pred).map({0: 'Tidak', 1: 'Ya'}).value_counts())}\")\n",
    "print(\"=\"*70)"
   ]
  },
  {
   "cell_type": "markdown",
   "id": "fe3da58c",
   "metadata": {},
   "source": [
    "# 2. Model Dengan Perhitungan Sederhana Naïve Bayes "
   ]
  },
  {
   "cell_type": "markdown",
   "id": "394210f6",
   "metadata": {},
   "source": [
    "## Import Library"
   ]
  },
  {
   "cell_type": "code",
   "execution_count": 44,
   "id": "083634f6",
   "metadata": {},
   "outputs": [],
   "source": [
    "import pandas as pd\n",
    "from sklearn.naive_bayes import GaussianNB\n",
    "from sklearn.preprocessing import LabelEncoder\n",
    "from sklearn.metrics import accuracy_score, classification_report\n",
    "import numpy as np"
   ]
  },
  {
   "cell_type": "markdown",
   "id": "84cae3c3",
   "metadata": {},
   "source": [
    "## LANGKAH 1: BACA DATA"
   ]
  },
  {
   "cell_type": "code",
   "execution_count": 45,
   "id": "a403ef7d",
   "metadata": {},
   "outputs": [
    {
     "name": "stdout",
     "output_type": "stream",
     "text": [
      "\n",
      "1. LOAD DATA TRAINING\n",
      "----------------------------------------\n",
      " Data berhasil dimuat\n",
      "Total data: 15 mahasiswa\n",
      "   NO      KELAMIN     STATUS PERNIKAHAN   IPK KETERANGAN\n",
      "0   1  LAKI - LAKI  MAHASISWA      BELUM  3.17      TEPAT\n",
      "1   2  LAKI - LAKI    BEKERJA      BELUM  3.30      TEPAT\n",
      "2   3    PEREMPUAN  MAHASISWA      BELUM  3.01      TEPAT\n",
      "3   4    PEREMPUAN  MAHASISWA    MENIKAH  3.25      TEPAT\n",
      "4   5  LAKI - LAKI    BEKERJA    MENIKAH  3.20      TEPAT\n",
      "5   6  LAKI - LAKI    BEKERJA    MENIKAH  2.50  TERLAMBAT\n",
      "6   7    PEREMPUAN    BEKERJA    MENIKAH  3.00  TERLAMBAT\n",
      "7   8    PEREMPUAN    BEKERJA      BELUM  2.70  TERLAMBAT\n",
      "8   9  LAKI - LAKI    BEKERJA      BELUM  2.40  TERLAMBAT\n",
      "9  10    PEREMPUAN  MAHASISWA    MENIKAH  2.50  TERLAMBAT\n"
     ]
    }
   ],
   "source": [
    "print(\"\\n1. LOAD DATA TRAINING\")\n",
    "print(\"-\" * 40)\n",
    "df = pd.read_csv('dataset/data_mahasiswa.csv')\n",
    "print(\" Data berhasil dimuat\")\n",
    "print(f\"Total data: {len(df)} mahasiswa\")\n",
    "print(df.head(10))\n"
   ]
  },
  {
   "cell_type": "markdown",
   "id": "70bdd6d6",
   "metadata": {},
   "source": [
    "## LANGKAH 2: PREPROCESSING"
   ]
  },
  {
   "cell_type": "code",
   "execution_count": 46,
   "id": "799d06de",
   "metadata": {},
   "outputs": [
    {
     "name": "stdout",
     "output_type": "stream",
     "text": [
      "\n",
      "2. PREPROCESSING DATA\n",
      "----------------------------------------\n",
      "Mapping encoding untuk setiap fitur:\n",
      "KELAMIN: {'LAKI - LAKI': np.int64(0), 'PEREMPUAN': np.int64(1)}\n",
      "STATUS: {'BEKERJA': np.int64(0), 'MAHASISWA': np.int64(1)}\n",
      "PERNIKAHAN: {'BELUM': np.int64(0), 'MENIKAH': np.int64(1)}\n",
      "KETERANGAN: {'TEPAT': np.int64(0), 'TERLAMBAT': np.int64(1)}\n"
     ]
    }
   ],
   "source": [
    "print(\"\\n2. PREPROCESSING DATA\")\n",
    "print(\"-\" * 40)\n",
    "\n",
    "# Label Encoding untuk mengubah data kategorikal menjadi numerik\n",
    "encoders = {}\n",
    "encoded_df = df.copy()\n",
    "\n",
    "feature_cols = ['KELAMIN', 'STATUS', 'PERNIKAHAN',]\n",
    "target_col = 'KETERANGAN'\n",
    "\n",
    "print(\"Mapping encoding untuk setiap fitur:\")\n",
    "for col in feature_cols + [target_col]:\n",
    "    le = LabelEncoder()\n",
    "    encoded_df[col + '_encoded'] = le.fit_transform(df[col])\n",
    "    encoders[col] = le\n",
    "    mapping = dict(zip(le.classes_, le.transform(le.classes_)))\n",
    "    print(f\"{col}: {mapping}\")\n",
    "\n"
   ]
  },
  {
   "cell_type": "code",
   "execution_count": 47,
   "id": "9a516999",
   "metadata": {},
   "outputs": [
    {
     "data": {
      "text/html": [
       "<div>\n",
       "<style scoped>\n",
       "    .dataframe tbody tr th:only-of-type {\n",
       "        vertical-align: middle;\n",
       "    }\n",
       "\n",
       "    .dataframe tbody tr th {\n",
       "        vertical-align: top;\n",
       "    }\n",
       "\n",
       "    .dataframe thead th {\n",
       "        text-align: right;\n",
       "    }\n",
       "</style>\n",
       "<table border=\"1\" class=\"dataframe\">\n",
       "  <thead>\n",
       "    <tr style=\"text-align: right;\">\n",
       "      <th></th>\n",
       "      <th>NO</th>\n",
       "      <th>KELAMIN</th>\n",
       "      <th>STATUS</th>\n",
       "      <th>PERNIKAHAN</th>\n",
       "      <th>IPK</th>\n",
       "      <th>KETERANGAN</th>\n",
       "      <th>KELAMIN_encoded</th>\n",
       "      <th>STATUS_encoded</th>\n",
       "      <th>PERNIKAHAN_encoded</th>\n",
       "      <th>KETERANGAN_encoded</th>\n",
       "    </tr>\n",
       "  </thead>\n",
       "  <tbody>\n",
       "    <tr>\n",
       "      <th>0</th>\n",
       "      <td>1</td>\n",
       "      <td>LAKI - LAKI</td>\n",
       "      <td>MAHASISWA</td>\n",
       "      <td>BELUM</td>\n",
       "      <td>3.17</td>\n",
       "      <td>TEPAT</td>\n",
       "      <td>0</td>\n",
       "      <td>1</td>\n",
       "      <td>0</td>\n",
       "      <td>0</td>\n",
       "    </tr>\n",
       "    <tr>\n",
       "      <th>1</th>\n",
       "      <td>2</td>\n",
       "      <td>LAKI - LAKI</td>\n",
       "      <td>BEKERJA</td>\n",
       "      <td>BELUM</td>\n",
       "      <td>3.30</td>\n",
       "      <td>TEPAT</td>\n",
       "      <td>0</td>\n",
       "      <td>0</td>\n",
       "      <td>0</td>\n",
       "      <td>0</td>\n",
       "    </tr>\n",
       "    <tr>\n",
       "      <th>2</th>\n",
       "      <td>3</td>\n",
       "      <td>PEREMPUAN</td>\n",
       "      <td>MAHASISWA</td>\n",
       "      <td>BELUM</td>\n",
       "      <td>3.01</td>\n",
       "      <td>TEPAT</td>\n",
       "      <td>1</td>\n",
       "      <td>1</td>\n",
       "      <td>0</td>\n",
       "      <td>0</td>\n",
       "    </tr>\n",
       "    <tr>\n",
       "      <th>3</th>\n",
       "      <td>4</td>\n",
       "      <td>PEREMPUAN</td>\n",
       "      <td>MAHASISWA</td>\n",
       "      <td>MENIKAH</td>\n",
       "      <td>3.25</td>\n",
       "      <td>TEPAT</td>\n",
       "      <td>1</td>\n",
       "      <td>1</td>\n",
       "      <td>1</td>\n",
       "      <td>0</td>\n",
       "    </tr>\n",
       "    <tr>\n",
       "      <th>4</th>\n",
       "      <td>5</td>\n",
       "      <td>LAKI - LAKI</td>\n",
       "      <td>BEKERJA</td>\n",
       "      <td>MENIKAH</td>\n",
       "      <td>3.20</td>\n",
       "      <td>TEPAT</td>\n",
       "      <td>0</td>\n",
       "      <td>0</td>\n",
       "      <td>1</td>\n",
       "      <td>0</td>\n",
       "    </tr>\n",
       "    <tr>\n",
       "      <th>5</th>\n",
       "      <td>6</td>\n",
       "      <td>LAKI - LAKI</td>\n",
       "      <td>BEKERJA</td>\n",
       "      <td>MENIKAH</td>\n",
       "      <td>2.50</td>\n",
       "      <td>TERLAMBAT</td>\n",
       "      <td>0</td>\n",
       "      <td>0</td>\n",
       "      <td>1</td>\n",
       "      <td>1</td>\n",
       "    </tr>\n",
       "    <tr>\n",
       "      <th>6</th>\n",
       "      <td>7</td>\n",
       "      <td>PEREMPUAN</td>\n",
       "      <td>BEKERJA</td>\n",
       "      <td>MENIKAH</td>\n",
       "      <td>3.00</td>\n",
       "      <td>TERLAMBAT</td>\n",
       "      <td>1</td>\n",
       "      <td>0</td>\n",
       "      <td>1</td>\n",
       "      <td>1</td>\n",
       "    </tr>\n",
       "    <tr>\n",
       "      <th>7</th>\n",
       "      <td>8</td>\n",
       "      <td>PEREMPUAN</td>\n",
       "      <td>BEKERJA</td>\n",
       "      <td>BELUM</td>\n",
       "      <td>2.70</td>\n",
       "      <td>TERLAMBAT</td>\n",
       "      <td>1</td>\n",
       "      <td>0</td>\n",
       "      <td>0</td>\n",
       "      <td>1</td>\n",
       "    </tr>\n",
       "    <tr>\n",
       "      <th>8</th>\n",
       "      <td>9</td>\n",
       "      <td>LAKI - LAKI</td>\n",
       "      <td>BEKERJA</td>\n",
       "      <td>BELUM</td>\n",
       "      <td>2.40</td>\n",
       "      <td>TERLAMBAT</td>\n",
       "      <td>0</td>\n",
       "      <td>0</td>\n",
       "      <td>0</td>\n",
       "      <td>1</td>\n",
       "    </tr>\n",
       "    <tr>\n",
       "      <th>9</th>\n",
       "      <td>10</td>\n",
       "      <td>PEREMPUAN</td>\n",
       "      <td>MAHASISWA</td>\n",
       "      <td>MENIKAH</td>\n",
       "      <td>2.50</td>\n",
       "      <td>TERLAMBAT</td>\n",
       "      <td>1</td>\n",
       "      <td>1</td>\n",
       "      <td>1</td>\n",
       "      <td>1</td>\n",
       "    </tr>\n",
       "    <tr>\n",
       "      <th>10</th>\n",
       "      <td>11</td>\n",
       "      <td>PEREMPUAN</td>\n",
       "      <td>MAHASISWA</td>\n",
       "      <td>BELUM</td>\n",
       "      <td>2.50</td>\n",
       "      <td>TERLAMBAT</td>\n",
       "      <td>1</td>\n",
       "      <td>1</td>\n",
       "      <td>0</td>\n",
       "      <td>1</td>\n",
       "    </tr>\n",
       "    <tr>\n",
       "      <th>11</th>\n",
       "      <td>12</td>\n",
       "      <td>PEREMPUAN</td>\n",
       "      <td>MAHASISWA</td>\n",
       "      <td>BELUM</td>\n",
       "      <td>3.50</td>\n",
       "      <td>TEPAT</td>\n",
       "      <td>1</td>\n",
       "      <td>1</td>\n",
       "      <td>0</td>\n",
       "      <td>0</td>\n",
       "    </tr>\n",
       "    <tr>\n",
       "      <th>12</th>\n",
       "      <td>13</td>\n",
       "      <td>LAKI - LAKI</td>\n",
       "      <td>BEKERJA</td>\n",
       "      <td>MENIKAH</td>\n",
       "      <td>3.30</td>\n",
       "      <td>TEPAT</td>\n",
       "      <td>0</td>\n",
       "      <td>0</td>\n",
       "      <td>1</td>\n",
       "      <td>0</td>\n",
       "    </tr>\n",
       "    <tr>\n",
       "      <th>13</th>\n",
       "      <td>14</td>\n",
       "      <td>LAKI - LAKI</td>\n",
       "      <td>MAHASISWA</td>\n",
       "      <td>MENIKAH</td>\n",
       "      <td>3.25</td>\n",
       "      <td>TEPAT</td>\n",
       "      <td>0</td>\n",
       "      <td>1</td>\n",
       "      <td>1</td>\n",
       "      <td>0</td>\n",
       "    </tr>\n",
       "    <tr>\n",
       "      <th>14</th>\n",
       "      <td>15</td>\n",
       "      <td>LAKI - LAKI</td>\n",
       "      <td>MAHASISWA</td>\n",
       "      <td>BELUM</td>\n",
       "      <td>2.30</td>\n",
       "      <td>TERLAMBAT</td>\n",
       "      <td>0</td>\n",
       "      <td>1</td>\n",
       "      <td>0</td>\n",
       "      <td>1</td>\n",
       "    </tr>\n",
       "  </tbody>\n",
       "</table>\n",
       "</div>"
      ],
      "text/plain": [
       "    NO      KELAMIN     STATUS PERNIKAHAN   IPK KETERANGAN  KELAMIN_encoded  \\\n",
       "0    1  LAKI - LAKI  MAHASISWA      BELUM  3.17      TEPAT                0   \n",
       "1    2  LAKI - LAKI    BEKERJA      BELUM  3.30      TEPAT                0   \n",
       "2    3    PEREMPUAN  MAHASISWA      BELUM  3.01      TEPAT                1   \n",
       "3    4    PEREMPUAN  MAHASISWA    MENIKAH  3.25      TEPAT                1   \n",
       "4    5  LAKI - LAKI    BEKERJA    MENIKAH  3.20      TEPAT                0   \n",
       "5    6  LAKI - LAKI    BEKERJA    MENIKAH  2.50  TERLAMBAT                0   \n",
       "6    7    PEREMPUAN    BEKERJA    MENIKAH  3.00  TERLAMBAT                1   \n",
       "7    8    PEREMPUAN    BEKERJA      BELUM  2.70  TERLAMBAT                1   \n",
       "8    9  LAKI - LAKI    BEKERJA      BELUM  2.40  TERLAMBAT                0   \n",
       "9   10    PEREMPUAN  MAHASISWA    MENIKAH  2.50  TERLAMBAT                1   \n",
       "10  11    PEREMPUAN  MAHASISWA      BELUM  2.50  TERLAMBAT                1   \n",
       "11  12    PEREMPUAN  MAHASISWA      BELUM  3.50      TEPAT                1   \n",
       "12  13  LAKI - LAKI    BEKERJA    MENIKAH  3.30      TEPAT                0   \n",
       "13  14  LAKI - LAKI  MAHASISWA    MENIKAH  3.25      TEPAT                0   \n",
       "14  15  LAKI - LAKI  MAHASISWA      BELUM  2.30  TERLAMBAT                0   \n",
       "\n",
       "    STATUS_encoded  PERNIKAHAN_encoded  KETERANGAN_encoded  \n",
       "0                1                   0                   0  \n",
       "1                0                   0                   0  \n",
       "2                1                   0                   0  \n",
       "3                1                   1                   0  \n",
       "4                0                   1                   0  \n",
       "5                0                   1                   1  \n",
       "6                0                   1                   1  \n",
       "7                0                   0                   1  \n",
       "8                0                   0                   1  \n",
       "9                1                   1                   1  \n",
       "10               1                   0                   1  \n",
       "11               1                   0                   0  \n",
       "12               0                   1                   0  \n",
       "13               1                   1                   0  \n",
       "14               1                   0                   1  "
      ]
     },
     "execution_count": 47,
     "metadata": {},
     "output_type": "execute_result"
    }
   ],
   "source": [
    "encoded_df"
   ]
  },
  {
   "cell_type": "code",
   "execution_count": 48,
   "id": "a0e6033c",
   "metadata": {},
   "outputs": [
    {
     "name": "stdout",
     "output_type": "stream",
     "text": [
      "\n",
      "Features: Index(['KELAMIN_encoded', 'STATUS_encoded', 'PERNIKAHAN_encoded', 'IPK'], dtype='object')\n",
      "Target: KETERANGAN\n",
      "Features shape: (15, 4)\n",
      "Target shape: (15,)\n"
     ]
    }
   ],
   "source": [
    "# Split fitur dan target\n",
    "X = encoded_df[['KELAMIN_encoded', 'STATUS_encoded','PERNIKAHAN_encoded','IPK']]\n",
    "y = encoded_df['KETERANGAN_encoded']\n",
    "\n",
    "print(f\"\\nFeatures: {X.columns}\")\n",
    "print(f\"Target: {target_col}\")\n",
    "print(f\"Features shape: {X.shape}\")\n",
    "print(f\"Target shape: {y.shape}\")"
   ]
  },
  {
   "cell_type": "markdown",
   "id": "5224b5b7",
   "metadata": {},
   "source": [
    "## LANGKAH 3: TRAINING MODEL NAIVE BAYES"
   ]
  },
  {
   "cell_type": "code",
   "execution_count": 49,
   "id": "0bdc2dfd",
   "metadata": {},
   "outputs": [
    {
     "name": "stdout",
     "output_type": "stream",
     "text": [
      "\n",
      "3. TRAINING NAIVE BAYES MODEL\n",
      "----------------------------------------\n",
      " Model Naive Bayes berhasil dilatih!\n"
     ]
    }
   ],
   "source": [
    "print(\"\\n3. TRAINING NAIVE BAYES MODEL\")\n",
    "print(\"-\" * 40)\n",
    "\n",
    "nb_model = GaussianNB()\n",
    "nb_model.fit(X, y)\n",
    "print(\" Model Naive Bayes berhasil dilatih!\")"
   ]
  },
  {
   "cell_type": "markdown",
   "id": "ab2a87bc",
   "metadata": {},
   "source": [
    "##  LANGKAH 4: EVALUASI MODEL"
   ]
  },
  {
   "cell_type": "code",
   "execution_count": 50,
   "id": "b94a8813",
   "metadata": {},
   "outputs": [
    {
     "name": "stdout",
     "output_type": "stream",
     "text": [
      "\n",
      "4. EVALUASI MODEL\n",
      "----------------------------------------\n",
      "Akurasi Training: 93.33%\n",
      "\n",
      "Classification Report:\n",
      "              precision    recall  f1-score   support\n",
      "\n",
      "       TEPAT       0.89      1.00      0.94         8\n",
      "   TERLAMBAT       1.00      0.86      0.92         7\n",
      "\n",
      "    accuracy                           0.93        15\n",
      "   macro avg       0.94      0.93      0.93        15\n",
      "weighted avg       0.94      0.93      0.93        15\n",
      "\n"
     ]
    }
   ],
   "source": [
    "print(\"\\n4. EVALUASI MODEL\")\n",
    "print(\"-\" * 40)\n",
    "\n",
    "y_pred = nb_model.predict(X)\n",
    "accuracy = accuracy_score(y, y_pred)\n",
    "print(f\"Akurasi Training: {accuracy*100:.2f}%\")\n",
    "\n",
    "print(\"\\nClassification Report:\")\n",
    "target_names = encoders['KETERANGAN'].classes_\n",
    "print(classification_report(y, y_pred, target_names=target_names, zero_division=0))\n"
   ]
  },
  {
   "cell_type": "markdown",
   "id": "f13871f7",
   "metadata": {},
   "source": [
    "## LANGKAH 5: PREDIKSI DATA TEST"
   ]
  },
  {
   "cell_type": "code",
   "execution_count": 53,
   "id": "067842d8",
   "metadata": {},
   "outputs": [
    {
     "name": "stdout",
     "output_type": "stream",
     "text": [
      "\n",
      "5. PREDIKSI DATA TEST\n",
      "----------------------------------------\n",
      "Data Test:\n",
      "Jenis Kelamin: LAKI - LAKI\n",
      "Status Mahasiswa: MAHASISWA\n",
      "Status Pernikahan: BELUM\n",
      "IPK: 2.7\n",
      "\n",
      " HASIL PREDIKSI:\n",
      "Status Kelulusan: TERLAMBAT\n",
      "Probabilitas [Tidak Lulus, Lulus]: [0.001, 0.999]\n",
      "Confidence: 99.9%\n"
     ]
    }
   ],
   "source": [
    "print(\"\\n5. PREDIKSI DATA TEST\")\n",
    "print(\"-\" * 40)\n",
    "\n",
    "# Data test \n",
    "test_data = {\n",
    "    'KELAMIN': 'LAKI - LAKI',\n",
    "    'STATUS': 'MAHASISWA', \n",
    "    'PERNIKAHAN': 'BELUM',\n",
    "    'IPK': 2.70\n",
    "}\n",
    "\n",
    "print(f\"Data Test:\")\n",
    "print(f\"Jenis Kelamin: {test_data['KELAMIN']}\")\n",
    "print(f\"Status Mahasiswa: {test_data['STATUS']}\")\n",
    "print(f\"Status Pernikahan: {test_data['PERNIKAHAN']}\")\n",
    "print(f\"IPK: {test_data['IPK']}\")\n",
    "\n",
    "# Encode data test\n",
    "jk_encoded = encoders['KELAMIN'].transform([test_data['KELAMIN']])[0]\n",
    "sm_encoded = encoders['STATUS'].transform([test_data['STATUS']])[0]\n",
    "sp_encoded = encoders['PERNIKAHAN'].transform([test_data['PERNIKAHAN']])[0]\n",
    "ipk = test_data['IPK']\n",
    "\n",
    "\n",
    "X_test = pd.DataFrame([[jk_encoded, sm_encoded, sp_encoded, ipk]], columns=X.columns)\n",
    "\n",
    "# Prediksi\n",
    "prediction = nb_model.predict(X_test)[0]\n",
    "probability = nb_model.predict_proba(X_test)[0]\n",
    "result = encoders['KETERANGAN'].inverse_transform([prediction])[0]\n",
    "\n",
    "print(f\"\\n HASIL PREDIKSI:\")\n",
    "print(f\"Status Kelulusan: {result}\")\n",
    "print(f\"Probabilitas [Tidak Lulus, Lulus]: [{probability[0]:.3f}, {probability[1]:.3f}]\")\n",
    "print(f\"Confidence: {max(probability)*100:.1f}%\")\n"
   ]
  },
  {
   "cell_type": "markdown",
   "id": "ac880805",
   "metadata": {},
   "source": [
    "## KESIMPULAN"
   ]
  },
  {
   "cell_type": "code",
   "execution_count": 54,
   "id": "a58b7e99",
   "metadata": {},
   "outputs": [
    {
     "name": "stdout",
     "output_type": "stream",
     "text": [
      "\n",
      "============================================================\n",
      " KESIMPULAN:\n",
      "============================================================\n",
      "1. Model Naive Bayes berhasil dibuat dengan akurasi 93.33%\n",
      "2. Data test: LAKI-LAKI, Aktif, Belum, IPK=2.70\n",
      "3. Prediksi: TERLAMBAT dengan confidence 99.9%\n",
      "============================================================\n"
     ]
    }
   ],
   "source": [
    "print(\"\\n\" + \"=\"*60)\n",
    "print(\" KESIMPULAN:\")\n",
    "print(\"=\"*60)\n",
    "print(f\"1. Model Naive Bayes berhasil dibuat dengan akurasi {accuracy*100:.2f}%\")\n",
    "print(f\"2. Data test: LAKI-LAKI, Aktif, Belum, IPK=2.70\")\n",
    "print(f\"3. Prediksi: {result} dengan confidence {max(probability)*100:.1f}%\")\n",
    "print(\"=\"*60)"
   ]
  },
  {
   "cell_type": "markdown",
   "id": "90021482",
   "metadata": {},
   "source": [
    "# Soal 3 & 4"
   ]
  },
  {
   "cell_type": "code",
   "execution_count": 55,
   "id": "83a938b4",
   "metadata": {},
   "outputs": [],
   "source": [
    "import numpy as np\n",
    "from sklearn.cluster import KMeans\n",
    "import matplotlib.pyplot as plt\n",
    "\n",
    "def run_kmeans_clustering(data, n_clusters=2):\n",
    "    # Konversi data ke array 2D\n",
    "    X = np.array(data).reshape(-1, 1)\n",
    "\n",
    "    # Buat dan fit model KMeans\n",
    "    kmeans = KMeans(n_clusters=n_clusters, random_state=0)\n",
    "    kmeans.fit(X)\n",
    "\n",
    "    # Dapatkan hasil\n",
    "    labels = kmeans.labels_\n",
    "    centroids = kmeans.cluster_centers_.flatten()\n",
    "    inertia = kmeans.inertia_\n",
    "\n",
    "    # Tampilkan hasil dan rumusannya\n",
    "    print(f\"\\n=== Hasil K-Means Clustering (K = {n_clusters}) ===\")\n",
    "    print(\"Data:\", data)\n",
    "    print(\"Label Klaster:\", labels)\n",
    "    print(\"Centroids:\", centroids)\n",
    "    print(f\"Inertia (Jumlah kuadrat jarak ke centroid): {inertia:.2f}\")\n",
    "\n",
    "    # Visualisasi\n",
    "    colors = ['red', 'blue', 'green', 'purple', 'orange']\n",
    "    point_colors = [colors[label] for label in labels]\n",
    "\n",
    "    plt.figure(figsize=(10, 2))\n",
    "    plt.scatter(data, [0]*len(data), c=point_colors, s=100, edgecolors='black', label='Data')\n",
    "    plt.scatter(centroids, [0]*n_clusters, marker='X', c=colors[:n_clusters],\n",
    "                s=300, edgecolors='black', label='Centroid')\n",
    "    \n",
    "    plt.title(f\"K-Means Clustering - {n_clusters} Cluster(s)\")\n",
    "    plt.yticks([])\n",
    "    plt.grid(True)\n",
    "    plt.legend()\n",
    "    plt.show()\n"
   ]
  },
  {
   "cell_type": "markdown",
   "id": "b368f7cb",
   "metadata": {},
   "source": [
    "## Jawaban Soal No 3"
   ]
  },
  {
   "cell_type": "code",
   "execution_count": null,
   "id": "c96bbc22",
   "metadata": {},
   "outputs": [
    {
     "name": "stdout",
     "output_type": "stream",
     "text": [
      "\n",
      "=== Hasil K-Means Clustering (K = 2) ===\n",
      "Data: [4, 6, 10, 12, 3, 20, 40, 39, 25]\n",
      "Label Klaster: [0 0 0 0 0 0 1 1 1]\n",
      "Centroids: [ 9.16666667 34.66666667]\n",
      "Inertia (Jumlah kuadrat jarak ke centroid): 341.50\n"
     ]
    },
    {
     "data": {
      "image/png": "[encoded data removed]",
      "text/plain": [
       "<Figure size 1000x200 with 1 Axes>"
      ]
     },
     "metadata": {},
     "output_type": "display_data"
    }
   ],
   "source": [
    "# Dataset\n",
    "#Nim Saya  : 0102524719\n",
    "#jadi 3(x) = 39\n",
    "data = [4, 6, 10,12, 3, 20, 40 , 39, 25]\n",
    "# Jalankan untuk 2 cluster\n",
    "run_kmeans_clustering(data, n_clusters=2)"
   ]
  },
  {
   "cell_type": "markdown",
   "id": "4c552270",
   "metadata": {},
   "source": [
    "## Jawaban Soal No 4"
   ]
  },
  {
   "cell_type": "code",
   "execution_count": null,
   "id": "dbc10665",
   "metadata": {},
   "outputs": [
    {
     "name": "stdout",
     "output_type": "stream",
     "text": [
      "\n",
      "=== Hasil K-Means Clustering (K = 3) ===\n",
      "Data: [1, 2, 6, 7, 8, 10, 15, 39, 20]\n",
      "Label Klaster: [0 0 0 0 0 0 2 1 2]\n",
      "Centroids: [ 5.66666667 39.         17.5       ]\n",
      "Inertia (Jumlah kuadrat jarak ke centroid): 73.83\n"
     ]
    },
    {
     "data": {
      "image/png": "[encoded data removed]",
      "text/plain": [
       "<Figure size 1000x200 with 1 Axes>"
      ]
     },
     "metadata": {},
     "output_type": "display_data"
    }
   ],
   "source": [
    "# Dataset\n",
    "#Nim Saya  : 0102524719\n",
    "#jadi 3(x) = 39\n",
    "data = [1, 2, 6, 7, 8, 10, 15 , 39, 20]\n",
    "# Jalankan untuk 3 cluster\n",
    "run_kmeans_clustering(data, n_clusters=3)"
   ]
  },
  {
   "cell_type": "markdown",
   "id": "54dd2818",
   "metadata": {},
   "source": [
    "# Soal No 5"
   ]
  },
  {
   "cell_type": "code",
   "execution_count": null,
   "id": "3f1165b6",
   "metadata": {},
   "outputs": [
    {
     "name": "stdout",
     "output_type": "stream",
     "text": [
      "Label tiap data: [0 1 1 0 0 0]\n",
      "Koordinat centroid:\n",
      "[[193.5   72.25]\n",
      " [179.    59.5 ]]\n"
     ]
    },
    {
     "data": {
      "image/png": "[encoded data removed]",
      "text/plain": [
       "<Figure size 640x480 with 1 Axes>"
      ]
     },
     "metadata": {},
     "output_type": "display_data"
    }
   ],
   "source": [
    "import numpy as np\n",
    "import matplotlib.pyplot as plt\n",
    "from sklearn.cluster import KMeans\n",
    "\n",
    "#Nim Saya  : 0102524719\n",
    "#jadi 5(x) = 59\n",
    "# Dataset: [X, Y]\n",
    "X = np.array([\n",
    "    [195 , 72 ],\n",
    "    [180 , 59],\n",
    "    [178 , 60 ],\n",
    "    [189 , 68 ],\n",
    "    [192 , 72 ],\n",
    "    [198 , 77 ]\n",
    "])\n",
    "\n",
    "# Buat model KMeans dengan 2 cluster\n",
    "kmeans = KMeans(n_clusters=2, random_state=0)\n",
    "kmeans.fit(X)\n",
    "\n",
    "# Dapatkan hasil clustering\n",
    "labels = kmeans.labels_\n",
    "centroids = kmeans.cluster_centers_\n",
    "\n",
    "# Tampilkan hasil\n",
    "print(\"Label tiap data:\", labels)\n",
    "print(\"Koordinat centroid:\")\n",
    "print(centroids)\n",
    "\n",
    "# Visualisasi hasil clustering\n",
    "colors = ['red', 'blue']\n",
    "for i in range(len(X)):\n",
    "    plt.scatter(X[i][0], X[i][1], color=colors[labels[i]], label=f'Cluster {labels[i]}' if i == 0 or i == 1 else \"\")\n",
    "\n",
    "# Centroid\n",
    "plt.scatter(centroids[:, 0], centroids[:, 1], marker='X', s=200, color='black', label='Centroid')\n",
    "\n",
    "plt.title(\"K-Means Clustering (2 Cluster)\")\n",
    "plt.xlabel(\"X\")\n",
    "plt.ylabel(\"Y\")\n",
    "plt.legend()\n",
    "plt.grid(True)\n",
    "plt.show()\n"
   ]
  }
 ],
 "metadata": {
  "kernelspec": {
   "display_name": "venv",
   "language": "python",
   "name": "python3"
  },
  "language_info": {
   "codemirror_mode": {
    "name": "ipython",
    "version": 3
   },
   "file_extension": ".py",
   "mimetype": "text/x-python",
   "name": "python",
   "nbconvert_exporter": "python",
   "pygments_lexer": "ipython3",
   "version": "3.11.9"
  }
 },
 "nbformat": 4,
 "nbformat_minor": 5
}
